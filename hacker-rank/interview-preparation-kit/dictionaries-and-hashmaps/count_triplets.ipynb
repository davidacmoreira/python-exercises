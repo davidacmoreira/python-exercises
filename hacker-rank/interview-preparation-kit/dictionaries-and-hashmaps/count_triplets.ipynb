{
 "metadata": {
  "language_info": {
   "codemirror_mode": {
    "name": "ipython",
    "version": 3
   },
   "file_extension": ".py",
   "mimetype": "text/x-python",
   "name": "python",
   "nbconvert_exporter": "python",
   "pygments_lexer": "ipython3",
   "version": "3.7.9-final"
  },
  "orig_nbformat": 2,
  "kernelspec": {
   "name": "Python 3.7.9 64-bit",
   "display_name": "Python 3.7.9 64-bit",
   "metadata": {
    "interpreter": {
     "hash": "75b78329ae9019b349acb7c7ae29a9d5ae7716184856d69bb9cc832bf8eda50e"
    }
   }
  }
 },
 "nbformat": 4,
 "nbformat_minor": 2,
 "cells": [
  {
   "cell_type": "code",
   "execution_count": 1,
   "metadata": {},
   "outputs": [],
   "source": [
    "r = 2\n",
    "arr = [1,2,2,4] # 2\n",
    "arr = [1,2,4,8] # 2\n",
    "arr = [1,2,2,4,8] # 4\n",
    "arr = [1,2,2,4,8] # 4\n",
    "\n",
    "r = 3\n",
    "arr = [3,9,9,27] # 4"
   ]
  },
  {
   "cell_type": "code",
   "execution_count": 2,
   "metadata": {},
   "outputs": [],
   "source": [
    "triplets = 0\n",
    "dict_before = {}\n",
    "dict_after = {}\n",
    "\n",
    "for a in arr:\n",
    "    if a in dict_after:\n",
    "        dict_after[a] += 1\n",
    "    else:\n",
    "        dict_after[a] = 1\n",
    "\n",
    "for a in arr:\n",
    "    dict_after[a] -= 1\n",
    "\n",
    "    if ((a % r) == 0) and ((a / r) in dict_before) and ((a * r) in dict_after):\n",
    "        triplets += dict_before[(a / r)] * dict_after[(a * r)]\n",
    "\n",
    "    if a in dict_before:\n",
    "        dict_before[a] += 1\n",
    "    else:\n",
    "        dict_before[a] = 1"
   ]
  },
  {
   "cell_type": "code",
   "execution_count": 3,
   "metadata": {},
   "outputs": [
    {
     "output_type": "execute_result",
     "data": {
      "text/plain": [
       "2"
      ]
     },
     "metadata": {},
     "execution_count": 3
    }
   ],
   "source": [
    "triplets"
   ]
  }
 ]
}