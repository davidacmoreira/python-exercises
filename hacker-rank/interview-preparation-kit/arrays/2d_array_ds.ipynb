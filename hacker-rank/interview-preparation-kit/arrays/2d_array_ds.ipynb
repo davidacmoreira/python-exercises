{
 "metadata": {
  "language_info": {
   "codemirror_mode": {
    "name": "ipython",
    "version": 3
   },
   "file_extension": ".py",
   "mimetype": "text/x-python",
   "name": "python",
   "nbconvert_exporter": "python",
   "pygments_lexer": "ipython3",
   "version": "3.7.9-final"
  },
  "orig_nbformat": 2,
  "kernelspec": {
   "name": "Python 3.7.9 64-bit ('exercices': conda)",
   "display_name": "Python 3.7.9 64-bit ('exercices': conda)",
   "metadata": {
    "interpreter": {
     "hash": "75b78329ae9019b349acb7c7ae29a9d5ae7716184856d69bb9cc832bf8eda50e"
    }
   }
  }
 },
 "nbformat": 4,
 "nbformat_minor": 2,
 "cells": [
  {
   "cell_type": "code",
   "execution_count": 34,
   "metadata": {},
   "outputs": [
    {
     "output_type": "execute_result",
     "data": {
      "text/plain": [
       "[[1, 1, 1, 0, 0, 0],\n",
       " [0, 1, 0, 0, 0, 0],\n",
       " [1, 1, 1, 0, 0, 0],\n",
       " [0, 0, 2, 4, 4, 0],\n",
       " [0, 0, 0, 2, 0, 0],\n",
       " [0, 0, 1, 2, 4, 0]]"
      ]
     },
     "metadata": {},
     "execution_count": 34
    }
   ],
   "source": [
    "arr = [[1,1,1,0,0,0],\n",
    "    [0,1,0,0,0,0],\n",
    "    [1,1,1,0,0,0],\n",
    "    [0,0,2,4,4,0],\n",
    "    [0,0,0,2,0,0],\n",
    "    [0,0,1,2,4,0]]\n",
    "arr"
   ]
  },
  {
   "cell_type": "code",
   "execution_count": 35,
   "metadata": {},
   "outputs": [
    {
     "output_type": "stream",
     "name": "stdout",
     "text": [
      "1 1 1\n  1  \n1 1 1\n\n\n1 1 0\n  0  \n1 1 0\n\n\n1 0 0\n  0  \n1 0 0\n\n\n0 0 0\n  0  \n0 0 0\n\n\n0 1 0\n  1  \n0 0 2\n\n\n1 0 0\n  1  \n0 2 4\n\n\n0 0 0\n  0  \n2 4 4\n\n\n0 0 0\n  0  \n4 4 0\n\n\n1 1 1\n  0  \n0 0 0\n\n\n1 1 0\n  2  \n0 0 2\n\n\n1 0 0\n  4  \n0 2 0\n\n\n0 0 0\n  4  \n2 0 0\n\n\n0 0 2\n  0  \n0 0 1\n\n\n0 2 4\n  0  \n0 1 2\n\n\n2 4 4\n  2  \n1 2 4\n\n\n4 4 0\n  0  \n2 4 0\n\n\n"
     ]
    }
   ],
   "source": [
    "i = 1\n",
    "while i <= 4:\n",
    "    j = 1\n",
    "    while j <= 4:\n",
    "        print(str(arr[i-1][j-1]) + ' ' + str(arr[i-1][j]) + ' ' + str(arr[i-1][j+1]))\n",
    "        print('  ' + str(arr[i][j]) + '  ')\n",
    "        print(str(arr[i+1][j-1]) + ' ' + str(arr[i+1][j]) + ' ' + str(arr[i+1][j+1]))\n",
    "        print('\\n')\n",
    "        j += 1\n",
    "    i += 1"
   ]
  },
  {
   "cell_type": "code",
   "execution_count": 36,
   "metadata": {},
   "outputs": [
    {
     "output_type": "execute_result",
     "data": {
      "text/plain": [
       "-inf"
      ]
     },
     "metadata": {},
     "execution_count": 36
    }
   ],
   "source": [
    "max_sum_hourglass = float('-inf')\n",
    "max_sum_hourglass"
   ]
  },
  {
   "cell_type": "code",
   "execution_count": 37,
   "metadata": {
    "tags": []
   },
   "outputs": [],
   "source": [
    "i = 1\n",
    "while i <= 4:\n",
    "    j = 1\n",
    "    while j <= 4:\n",
    "        sum_hourglass = arr[i-1][j-1] + arr[i-1][j] + arr[i-1][j+1] + arr[i][j] + arr[i+1][j-1] + arr[i+1][j] + arr[i+1][j+1]\n",
    "        if sum_hourglass > max_sum_hourglass:\n",
    "            max_sum_hourglass = sum_hourglass \n",
    "        j += 1\n",
    "    i += 1"
   ]
  },
  {
   "cell_type": "code",
   "execution_count": 38,
   "metadata": {},
   "outputs": [
    {
     "output_type": "execute_result",
     "data": {
      "text/plain": [
       "19"
      ]
     },
     "metadata": {},
     "execution_count": 38
    }
   ],
   "source": [
    "max_sum_hourglass"
   ]
  }
 ]
}