{
 "metadata": {
  "language_info": {
   "codemirror_mode": {
    "name": "ipython",
    "version": 3
   },
   "file_extension": ".py",
   "mimetype": "text/x-python",
   "name": "python",
   "nbconvert_exporter": "python",
   "pygments_lexer": "ipython3",
   "version": "3.7.9-final"
  },
  "orig_nbformat": 2,
  "kernelspec": {
   "name": "Python 3.7.9 64-bit ('exercices': conda)",
   "display_name": "Python 3.7.9 64-bit ('exercices': conda)",
   "metadata": {
    "interpreter": {
     "hash": "75b78329ae9019b349acb7c7ae29a9d5ae7716184856d69bb9cc832bf8eda50e"
    }
   }
  }
 },
 "nbformat": 4,
 "nbformat_minor": 2,
 "cells": [
  {
   "cell_type": "code",
   "execution_count": 154,
   "metadata": {},
   "outputs": [],
   "source": [
    "n = 5\n",
    "m = 3\n",
    "\n",
    "queries = [[1,2,100],[2,5,100],[3,4,100]] # 200"
   ]
  },
  {
   "cell_type": "code",
   "execution_count": 145,
   "metadata": {},
   "outputs": [],
   "source": [
    "n = 10\n",
    "m = 4\n",
    "\n",
    "queries = [[2,6,8],[3,5,7],[1,8,1],[5,9,15]] # 31"
   ]
  },
  {
   "cell_type": "code",
   "execution_count": 155,
   "metadata": {},
   "outputs": [
    {
     "output_type": "execute_result",
     "data": {
      "text/plain": [
       "[0, 0, 0, 0, 0]"
      ]
     },
     "metadata": {},
     "execution_count": 155
    }
   ],
   "source": [
    "# arr = [[0]*n]*m\n",
    "# arr = [[0 for i in range(n+2)] for j in range(m)]\n",
    "arr = [0]*n\n",
    "# arr = [0 for i in range(n+2)]\n",
    "arr"
   ]
  },
  {
   "cell_type": "code",
   "execution_count": 156,
   "metadata": {},
   "outputs": [],
   "source": [
    "for q in queries:\n",
    "    a, b, k = q\n",
    "    arr[a-1] += k\n",
    "    if b != n:\n",
    "        arr[b] -= k"
   ]
  },
  {
   "cell_type": "code",
   "execution_count": 157,
   "metadata": {},
   "outputs": [
    {
     "output_type": "execute_result",
     "data": {
      "text/plain": [
       "[100, 100, 0, 0, -100]"
      ]
     },
     "metadata": {},
     "execution_count": 157
    }
   ],
   "source": [
    "arr"
   ]
  },
  {
   "cell_type": "code",
   "execution_count": 159,
   "metadata": {},
   "outputs": [],
   "source": [
    "max_sum = 0\n",
    "value_sum = 0\n",
    "\n",
    "for i in range(n):\n",
    "    value_sum += arr[i]\n",
    "    if value_sum > max_sum:\n",
    "        max_sum = value_sum"
   ]
  },
  {
   "cell_type": "code",
   "execution_count": 160,
   "metadata": {},
   "outputs": [
    {
     "output_type": "execute_result",
     "data": {
      "text/plain": [
       "200"
      ]
     },
     "metadata": {},
     "execution_count": 160
    }
   ],
   "source": [
    "max_sum"
   ]
  },
  {
   "cell_type": "code",
   "execution_count": null,
   "metadata": {},
   "outputs": [],
   "source": []
  }
 ]
}