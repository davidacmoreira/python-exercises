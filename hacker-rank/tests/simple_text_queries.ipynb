{
 "metadata": {
  "language_info": {
   "codemirror_mode": {
    "name": "ipython",
    "version": 3
   },
   "file_extension": ".py",
   "mimetype": "text/x-python",
   "name": "python",
   "nbconvert_exporter": "python",
   "pygments_lexer": "ipython3",
   "version": "3.7.9-final"
  },
  "orig_nbformat": 2,
  "kernelspec": {
   "name": "Python 3.7.9 64-bit ('exercices': conda)",
   "display_name": "Python 3.7.9 64-bit ('exercices': conda)",
   "metadata": {
    "interpreter": {
     "hash": "75b78329ae9019b349acb7c7ae29a9d5ae7716184856d69bb9cc832bf8eda50e"
    }
   }
  }
 },
 "nbformat": 4,
 "nbformat_minor": 2,
 "cells": [
  {
   "cell_type": "code",
   "execution_count": 1,
   "metadata": {},
   "outputs": [],
   "source": [
    "sentences = [\n",
    "    'bob and alice like to text each other',\n",
    "    'bob does not like to ski but does not like to fall',\n",
    "    'Alice likes ski'\n",
    "]\n",
    "\n",
    "queries = [\n",
    "    'bob alice',\n",
    "    'alice',\n",
    "    'like'\n",
    "]"
   ]
  },
  {
   "cell_type": "code",
   "execution_count": 2,
   "metadata": {},
   "outputs": [
    {
     "output_type": "stream",
     "name": "stdout",
     "text": [
      "0\n0\n0 1 1\n"
     ]
    }
   ],
   "source": [
    "arr_sentences = []\n",
    "\n",
    "for sentence in sentences:\n",
    "    tokens_sentences = sentence.split()\n",
    "    dict_sentence = {}\n",
    "\n",
    "    for token in tokens_sentences:\n",
    "        if token in dict_sentence:\n",
    "            dict_sentence[token] += 1\n",
    "        else:\n",
    "            dict_sentence[token] = 1\n",
    "\n",
    "    arr_sentences.append(dict_sentence)\n",
    "\n",
    "for query in queries:\n",
    "    words_query = query.split()\n",
    "\n",
    "    matchs_query = []\n",
    "    for i, elem_sentence in enumerate(arr_sentences):\n",
    "        \n",
    "        words_in_sentence = True\n",
    "        min_cardinality = sys.maxsize\n",
    "        count_max_sentences = 0\n",
    "        for word_query in words_query:\n",
    "\n",
    "            if word_query not in elem_sentence:\n",
    "                words_in_sentence = False\n",
    "                break\n",
    "            else:\n",
    "                if count_max_sentences <= 10:\n",
    "                    min_cardinality = min(min_cardinality, elem_sentence[word_query])\n",
    "                    count_max_sentences += 1\n",
    "                else:\n",
    "                    break\n",
    "\n",
    "        if words_in_sentence:\n",
    "            matchs_query.extend([str(i)]*min_cardinality)\n",
    "\n",
    "    if len(matchs_query) == 0:\n",
    "        matchs_query.append(str(-1))\n",
    "\n",
    "    print(' '.join(matchs_query))"
   ]
  },
  {
   "cell_type": "code",
   "execution_count": 3,
   "metadata": {},
   "outputs": [
    {
     "output_type": "stream",
     "name": "stdout",
     "text": [
      "0\n0\n0 1 1\n"
     ]
    }
   ],
   "source": [
    "arr_queries = []\n",
    "\n",
    "for query in queries:\n",
    "    words_query = query.split()\n",
    "    arr_queries.append(words_query)\n",
    "\n",
    "res = [[] for _ in range(len(queries))]\n",
    "for i, sentence in enumerate(sentences):\n",
    "    tokens_sentences = sentence.split()\n",
    "    dict_sentence = {}\n",
    "\n",
    "    for token in tokens_sentences:\n",
    "        if token in dict_sentence:\n",
    "            dict_sentence[token] += 1\n",
    "        else:\n",
    "            dict_sentence[token] = 1\n",
    "    \n",
    "    for j, query in enumerate(arr_queries):\n",
    "        words_in_sentence = True\n",
    "        min_cardinality = sys.maxsize\n",
    "        count_max_sentences = 0\n",
    "        for word_query in query:\n",
    "\n",
    "            if word_query not in dict_sentence:\n",
    "                words_in_sentence = False\n",
    "                break\n",
    "            else:\n",
    "                # if count_max_sentences <= 10:\n",
    "                min_cardinality = min(min_cardinality, dict_sentence[word_query])\n",
    "                    # count_max_sentences += 1\n",
    "                # else:\n",
    "                #     break\n",
    "\n",
    "        if words_in_sentence:\n",
    "            res[j].extend([str(i)]*min_cardinality)\n",
    "\n",
    "for r in res:\n",
    "    if len(r) == 0:\n",
    "        print(-1)\n",
    "    else:\n",
    "        print(' '.join(r))"
   ]
  }
 ]
}