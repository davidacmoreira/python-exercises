{
 "metadata": {
  "language_info": {
   "codemirror_mode": {
    "name": "ipython",
    "version": 3
   },
   "file_extension": ".py",
   "mimetype": "text/x-python",
   "name": "python",
   "nbconvert_exporter": "python",
   "pygments_lexer": "ipython3",
   "version": "3.7.9-final"
  },
  "orig_nbformat": 2,
  "kernelspec": {
   "name": "Python 3.7.9 64-bit ('exercices': conda)",
   "display_name": "Python 3.7.9 64-bit ('exercices': conda)",
   "metadata": {
    "interpreter": {
     "hash": "75b78329ae9019b349acb7c7ae29a9d5ae7716184856d69bb9cc832bf8eda50e"
    }
   }
  }
 },
 "nbformat": 4,
 "nbformat_minor": 2,
 "cells": [
  {
   "cell_type": "code",
   "execution_count": 1,
   "metadata": {},
   "outputs": [],
   "source": [
    "queries = [(1,1),(2,2),(3,2),(1,1),(1,1),(2,1),(3,2)] # [0,1]\n",
    "queries = [(1,5),(1,6),(3,2),(1,10),(1,10),(1,6),(2,5),(3,2)] # [0,1]\n",
    "queries = [(3,4),(2,1003),(1,16),(3,1)] # [0,1]\n",
    "queries = [(1,3),(2,3),(3,2),(1,4),(1,5),(1,5),(1,4),(3,2),(2,4),(3,2)] # [0,1,1]"
   ]
  },
  {
   "cell_type": "code",
   "execution_count": 2,
   "metadata": {},
   "outputs": [
    {
     "output_type": "execute_result",
     "data": {
      "text/plain": [
       "[0, 1, 1]"
      ]
     },
     "metadata": {},
     "execution_count": 2
    }
   ],
   "source": [
    "output = []\n",
    "dict_elements = {}\n",
    "dict_counts = {}\n",
    "\n",
    "for operation, element in queries:\n",
    "    if operation == 1:\n",
    "        if element in dict_elements:\n",
    "            if dict_elements[element] in dict_counts:\n",
    "                dict_counts[dict_elements[element]] -= 1\n",
    "\n",
    "            dict_elements[element] += 1\n",
    "\n",
    "        else:\n",
    "            dict_elements[element] = 1\n",
    "\n",
    "        if dict_elements[element] in dict_counts:\n",
    "            dict_counts[dict_elements[element]] += 1\n",
    "        else:\n",
    "            dict_counts[dict_elements[element]] = 1\n",
    "\n",
    "    elif operation == 2:\n",
    "        if element in dict_elements:\n",
    "            if dict_elements[element] > 0:\n",
    "                if dict_elements[element] in dict_counts:\n",
    "                    dict_counts[dict_elements[element]] -= 1\n",
    "\n",
    "                dict_elements[element] -= 1\n",
    "\n",
    "                if dict_elements[element] in dict_counts:\n",
    "                    dict_counts[dict_elements[element]] += 1\n",
    "                else:\n",
    "                    dict_counts[dict_elements[element]] = 1\n",
    "\n",
    "    elif operation == 3:\n",
    "        if element in dict_counts:\n",
    "            if dict_counts[element] > 0:\n",
    "                output.append(1)\n",
    "            else:\n",
    "                output.append(0)\n",
    "        else:\n",
    "            output.append(0)\n",
    "\n",
    "output"
   ]
  }
 ]
}