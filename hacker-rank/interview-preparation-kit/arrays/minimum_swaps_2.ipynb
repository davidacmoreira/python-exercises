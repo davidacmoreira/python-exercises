{
 "metadata": {
  "language_info": {
   "codemirror_mode": {
    "name": "ipython",
    "version": 3
   },
   "file_extension": ".py",
   "mimetype": "text/x-python",
   "name": "python",
   "nbconvert_exporter": "python",
   "pygments_lexer": "ipython3",
   "version": "3.7.9-final"
  },
  "orig_nbformat": 2,
  "kernelspec": {
   "name": "Python 3.7.9 64-bit ('exercices': conda)",
   "display_name": "Python 3.7.9 64-bit ('exercices': conda)",
   "metadata": {
    "interpreter": {
     "hash": "75b78329ae9019b349acb7c7ae29a9d5ae7716184856d69bb9cc832bf8eda50e"
    }
   }
  }
 },
 "nbformat": 4,
 "nbformat_minor": 2,
 "cells": [
  {
   "cell_type": "code",
   "execution_count": 14,
   "metadata": {},
   "outputs": [],
   "source": [
    "arr = [2,3,4,1,5] # 3\n"
   ]
  },
  {
   "cell_type": "code",
   "execution_count": 15,
   "metadata": {},
   "outputs": [],
   "source": [
    "swaps = 0\n",
    "visited = [0] * len(arr)\n",
    "\n",
    "for i in range(len(arr)):\n",
    "    if not visited[i]:\n",
    "        visited[i] = 1\n",
    "\n",
    "        if not arr[i] == i:\n",
    "            elem = arr[i] - 1\n",
    "\n",
    "            while not visited[elem]:\n",
    "                visited[elem] = 1\n",
    "                elem = arr[elem] - 1\n",
    "                swaps += 1"
   ]
  },
  {
   "cell_type": "code",
   "execution_count": 16,
   "metadata": {},
   "outputs": [
    {
     "output_type": "execute_result",
     "data": {
      "text/plain": [
       "3"
      ]
     },
     "metadata": {},
     "execution_count": 16
    }
   ],
   "source": [
    "swaps"
   ]
  }
 ]
}