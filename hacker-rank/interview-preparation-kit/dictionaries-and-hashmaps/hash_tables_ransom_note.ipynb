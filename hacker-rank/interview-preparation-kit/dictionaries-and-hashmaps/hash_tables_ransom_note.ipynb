{
 "metadata": {
  "language_info": {
   "codemirror_mode": {
    "name": "ipython",
    "version": 3
   },
   "file_extension": ".py",
   "mimetype": "text/x-python",
   "name": "python",
   "nbconvert_exporter": "python",
   "pygments_lexer": "ipython3",
   "version": "3.7.9-final"
  },
  "orig_nbformat": 2,
  "kernelspec": {
   "name": "Python 3.7.9 64-bit ('exercices': conda)",
   "display_name": "Python 3.7.9 64-bit ('exercices': conda)",
   "metadata": {
    "interpreter": {
     "hash": "75b78329ae9019b349acb7c7ae29a9d5ae7716184856d69bb9cc832bf8eda50e"
    }
   }
  }
 },
 "nbformat": 4,
 "nbformat_minor": 2,
 "cells": [
  {
   "cell_type": "code",
   "execution_count": 62,
   "metadata": {},
   "outputs": [],
   "source": [
    "magazine = ['give','me','one','grand','today','night']\n",
    "note = ['give','one','grand','today']\n",
    "# Yes"
   ]
  },
  {
   "cell_type": "code",
   "execution_count": 63,
   "metadata": {},
   "outputs": [],
   "source": [
    "# magazine = ['two','times','three','is','not','four']\n",
    "# note = ['two','times','two','is','four']\n",
    "# No"
   ]
  },
  {
   "cell_type": "code",
   "execution_count": 64,
   "metadata": {},
   "outputs": [],
   "source": [
    "# magazine = ['ive','got','a','lovely','bunch','of','coconuts']\n",
    "# note = ['ive','got','some','coconuts']\n",
    "# No"
   ]
  },
  {
   "cell_type": "code",
   "execution_count": 65,
   "metadata": {},
   "outputs": [],
   "source": [
    "dict_magazine = {}\n",
    "\n",
    "for m in magazine:\n",
    "    if m not in dict_magazine:\n",
    "        dict_magazine[m] = 1\n",
    "    else:\n",
    "        dict_magazine[m] += 1"
   ]
  },
  {
   "cell_type": "code",
   "execution_count": 66,
   "metadata": {},
   "outputs": [],
   "source": [
    "check = True\n",
    "\n",
    "for n in note:\n",
    "    if n in dict_magazine:\n",
    "        dict_magazine[n] -= 1\n",
    "        if dict_magazine[n] == 0:\n",
    "            del dict_magazine[n]\n",
    "    else:\n",
    "        check = False\n",
    "        break"
   ]
  },
  {
   "cell_type": "code",
   "execution_count": 67,
   "metadata": {},
   "outputs": [
    {
     "output_type": "stream",
     "name": "stdout",
     "text": [
      "Yes\n"
     ]
    }
   ],
   "source": [
    "if check:\n",
    "    print('Yes')\n",
    "else:\n",
    "    print('No')"
   ]
  }
 ]
}