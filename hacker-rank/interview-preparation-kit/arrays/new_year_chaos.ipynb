{
 "metadata": {
  "language_info": {
   "codemirror_mode": {
    "name": "ipython",
    "version": 3
   },
   "file_extension": ".py",
   "mimetype": "text/x-python",
   "name": "python",
   "nbconvert_exporter": "python",
   "pygments_lexer": "ipython3",
   "version": "3.7.9-final"
  },
  "orig_nbformat": 2,
  "kernelspec": {
   "name": "Python 3.7.9 64-bit ('exercices': conda)",
   "display_name": "Python 3.7.9 64-bit ('exercices': conda)",
   "metadata": {
    "interpreter": {
     "hash": "75b78329ae9019b349acb7c7ae29a9d5ae7716184856d69bb9cc832bf8eda50e"
    }
   }
  }
 },
 "nbformat": 4,
 "nbformat_minor": 2,
 "cells": [
  {
   "cell_type": "code",
   "execution_count": 35,
   "metadata": {},
   "outputs": [],
   "source": [
    "q = [2,1,5,3,4] # 3\n",
    "# q = [2,5,1,3,4] # Too chaotic\n",
    "# q = [1,2,5,3,7,8,6,4] # 7"
   ]
  },
  {
   "cell_type": "code",
   "execution_count": 36,
   "metadata": {},
   "outputs": [
    {
     "output_type": "stream",
     "name": "stdout",
     "text": [
      "3\n"
     ]
    }
   ],
   "source": [
    "minimumBribes(q)"
   ]
  },
  {
   "cell_type": "code",
   "execution_count": 32,
   "metadata": {},
   "outputs": [],
   "source": [
    "def minimumBribes(q):\n",
    "    limit_bribes = 2\n",
    "    bribes = 0\n",
    "\n",
    "    for i in range(len(q)):\n",
    "        diff_position = q[i] - (i + 1)\n",
    "\n",
    "        if diff_position > limit_bribes:\n",
    "            bribes = -1\n",
    "            break\n",
    "        \n",
    "        for j in range(max(0, q[i] - 2), i):\n",
    "            if q[j] > q[i]:\n",
    "                bribes += 1\n",
    "    \n",
    "    if bribes == -1:\n",
    "        print('Too chaotic')\n",
    "    else:\n",
    "        print(bribes)"
   ]
  }
 ]
}