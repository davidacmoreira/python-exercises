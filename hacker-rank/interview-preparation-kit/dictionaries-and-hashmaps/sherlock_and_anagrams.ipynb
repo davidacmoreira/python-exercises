{
 "metadata": {
  "language_info": {
   "codemirror_mode": {
    "name": "ipython",
    "version": 3
   },
   "file_extension": ".py",
   "mimetype": "text/x-python",
   "name": "python",
   "nbconvert_exporter": "python",
   "pygments_lexer": "ipython3",
   "version": "3.7.9-final"
  },
  "orig_nbformat": 2,
  "kernelspec": {
   "name": "Python 3.7.9 64-bit ('exercices': conda)",
   "display_name": "Python 3.7.9 64-bit ('exercices': conda)",
   "metadata": {
    "interpreter": {
     "hash": "75b78329ae9019b349acb7c7ae29a9d5ae7716184856d69bb9cc832bf8eda50e"
    }
   }
  }
 },
 "nbformat": 4,
 "nbformat_minor": 2,
 "cells": [
  {
   "cell_type": "code",
   "execution_count": 84,
   "metadata": {},
   "outputs": [],
   "source": [
    "s = 'abba' # 4\n",
    "s = 'ifailuhkqq' # 3\n",
    "s = 'kkkk' # 10\n",
    "s = 'cdcd' # 5"
   ]
  },
  {
   "cell_type": "code",
   "execution_count": 87,
   "metadata": {},
   "outputs": [],
   "source": [
    "dict_anagrams = {}\n",
    "count_anagrams = 0\n",
    "\n",
    "for i in range(len(s)):\n",
    "    for j in range(len(s)-i):\n",
    "        w = ''.join(sorted(s[(j):(i+j+1)]))\n",
    "\n",
    "        if w in dict_anagrams:\n",
    "            count_anagrams += 1 + dict_anagrams[w]\n",
    "            dict_anagrams[w] += 1\n",
    "        else:\n",
    "            dict_anagrams[w] = 0"
   ]
  },
  {
   "cell_type": "code",
   "execution_count": 88,
   "metadata": {},
   "outputs": [
    {
     "output_type": "execute_result",
     "data": {
      "text/plain": [
       "5"
      ]
     },
     "metadata": {},
     "execution_count": 88
    }
   ],
   "source": [
    "count_anagrams"
   ]
  }
 ]
}