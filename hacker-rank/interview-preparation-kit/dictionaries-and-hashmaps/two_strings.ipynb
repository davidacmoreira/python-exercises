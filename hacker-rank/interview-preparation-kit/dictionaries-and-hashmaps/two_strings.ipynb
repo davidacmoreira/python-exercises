{
 "metadata": {
  "language_info": {
   "codemirror_mode": {
    "name": "ipython",
    "version": 3
   },
   "file_extension": ".py",
   "mimetype": "text/x-python",
   "name": "python",
   "nbconvert_exporter": "python",
   "pygments_lexer": "ipython3",
   "version": "3.7.9-final"
  },
  "orig_nbformat": 2,
  "kernelspec": {
   "name": "Python 3.7.9 64-bit ('exercices': conda)",
   "display_name": "Python 3.7.9 64-bit ('exercices': conda)",
   "metadata": {
    "interpreter": {
     "hash": "75b78329ae9019b349acb7c7ae29a9d5ae7716184856d69bb9cc832bf8eda50e"
    }
   }
  }
 },
 "nbformat": 4,
 "nbformat_minor": 2,
 "cells": [
  {
   "cell_type": "code",
   "execution_count": 6,
   "metadata": {},
   "outputs": [],
   "source": [
    "s1 = 'hello'\n",
    "s2 = 'world'"
   ]
  },
  {
   "cell_type": "code",
   "execution_count": 10,
   "metadata": {},
   "outputs": [],
   "source": [
    "s1 = 'hi'\n",
    "s2 = 'world'"
   ]
  },
  {
   "cell_type": "code",
   "execution_count": 11,
   "metadata": {},
   "outputs": [
    {
     "output_type": "stream",
     "name": "stdout",
     "text": [
      "No\n"
     ]
    }
   ],
   "source": [
    "check = False\n",
    "\n",
    "for i in range(len(s1)):\n",
    "    if s1[i] in s2:\n",
    "        check = True\n",
    "        break\n",
    "\n",
    "if check:\n",
    "    print('YES')\n",
    "else:\n",
    "    print('NO')"
   ]
  },
  {
   "cell_type": "code",
   "execution_count": 12,
   "metadata": {},
   "outputs": [],
   "source": [
    "def two_strings(s1, s2):\n",
    "    for i in range(len(s1)):\n",
    "        if s1[i] in s2:\n",
    "            return 'YES'\n",
    "\n",
    "    return 'NO'"
   ]
  },
  {
   "cell_type": "code",
   "execution_count": 13,
   "metadata": {},
   "outputs": [
    {
     "output_type": "execute_result",
     "data": {
      "text/plain": [
       "'NO'"
      ]
     },
     "metadata": {},
     "execution_count": 13
    }
   ],
   "source": [
    "two_strings(s1, s2)"
   ]
  },
  {
   "cell_type": "code",
   "execution_count": null,
   "metadata": {},
   "outputs": [],
   "source": []
  }
 ]
}