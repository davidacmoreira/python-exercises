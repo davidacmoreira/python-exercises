{
 "metadata": {
  "language_info": {
   "codemirror_mode": {
    "name": "ipython",
    "version": 3
   },
   "file_extension": ".py",
   "mimetype": "text/x-python",
   "name": "python",
   "nbconvert_exporter": "python",
   "pygments_lexer": "ipython3",
   "version": "3.7.9-final"
  },
  "orig_nbformat": 2,
  "kernelspec": {
   "name": "Python 3.7.9 64-bit ('exercices': conda)",
   "display_name": "Python 3.7.9 64-bit ('exercices': conda)",
   "metadata": {
    "interpreter": {
     "hash": "75b78329ae9019b349acb7c7ae29a9d5ae7716184856d69bb9cc832bf8eda50e"
    }
   }
  }
 },
 "nbformat": 4,
 "nbformat_minor": 2,
 "cells": [
  {
   "cell_type": "code",
   "execution_count": 1,
   "metadata": {},
   "outputs": [],
   "source": [
    "prices = [1,12,5,111,200,1000,10]\n",
    "k = 50"
   ]
  },
  {
   "cell_type": "code",
   "execution_count": 2,
   "metadata": {},
   "outputs": [],
   "source": [
    "max_toys = 0\n",
    "max_toys_price = 0\n",
    "\n",
    "sorted_prices = sorted(prices)\n",
    "\n",
    "for price in sorted_prices:\n",
    "    if max_toys_price + price <= k:\n",
    "        max_toys_price += price\n",
    "        max_toys += 1\n",
    "    else:\n",
    "        break"
   ]
  },
  {
   "cell_type": "code",
   "execution_count": 3,
   "metadata": {},
   "outputs": [
    {
     "output_type": "execute_result",
     "data": {
      "text/plain": [
       "(28, 4)"
      ]
     },
     "metadata": {},
     "execution_count": 3
    }
   ],
   "source": [
    "max_toys_price, max_toys"
   ]
  }
 ]
}